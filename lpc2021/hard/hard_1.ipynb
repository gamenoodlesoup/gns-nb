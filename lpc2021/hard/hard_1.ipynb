{
 "cells": [
  {
   "cell_type": "markdown",
   "metadata": {},
   "source": [
    "# Bookshelf on the stairs\n",
    "## Difficulty: Hard\n",
    "\n",
    "![Hard Task Image](hard_task.png)\n",
    "\n",
    "We have a bunch of books here that needs to be moved to the classroom on the top floor. Could you help coding the agent robot to do all of this, so all of us could save much stamina walking up and down?\n",
    "\n",
    "You have to do the following:\n",
    "\n",
    "1. Guide the agent to pick up the bookshelf. \n",
    "\n",
    "2. Guide the agent to walk up the stairs to reach the classroom. \n",
    "\n",
    "3. Guide the agent to place down the bookshelf."
   ]
  },
  {
   "cell_type": "markdown",
   "metadata": {},
   "source": [
    "# Try it out first!\n",
    "\n",
    "Try to run the following command and see how the ```pickupBooks(<direction>)``` and ```placeBooks(<direction>)``` line works!"
   ]
  },
  {
   "cell_type": "code",
   "execution_count": null,
   "metadata": {
    "minecraft": {
     "overridePython": "def pickupBooks(direction):\n  if (agent.inspect(direction) == \"bookshelf\"):\n    agent.destroy(direction)\n    count = 0\n    if (agent.get_item(1) == \"bookshelf\"):\n      count = agent.get_item_count(1)\n      pass\n    agent.give(\"bookshelf\", count + 1, 1)\n    pass\n\ndef detectBooks(direction):\n  return agent.inspect(direction) == \"bookshelf\"\n\ndef placeBooks(direction):\n  if (agent.get_item(1) == \"bookshelf\" and agent.get_item_count(1) > 0):\n    agent.place(1, direction)\n    agent.give(\"bookshelf\", agent.get_item_count(1) - 1, 1)\n  else:\n    say(\"I don't have books to place!\")\n\ndef walkUpstairs():\n  agent.move(\"up\")\n  agent.move(\"forward\")\n\nagent.give(\"air\", 0, 1)\n@user-code"
    }
   },
   "outputs": [],
   "source": [
    "pickupBooks(\"right\")\n",
    "placeBooks(\"right\")"
   ]
  },
  {
   "cell_type": "markdown",
   "metadata": {},
   "source": [
    "# If Conditions\n",
    "\n",
    "It is better for us to detect whether there are books there before picking up books. In python, we have if conditionals, just like the ones in English:\n",
    "```\n",
    "if (detectBooks(\"right\") == True):\n",
    "  pickupBooks(\"right\")\n",
    "```\n",
    "\n",
    "What we have here\n",
    "- <b>if (conditions)</b>: a keyword for if conditions, you have to use a pair of parentheses to quote the conditions.\n",
    "- <b>detectBooks(\"right\") == True</b>: detect books on the right is true - there are books on the right, be sure to use ```==``` rather than ```=``` for the conditional checks.\n",
    "- <b>True</b>: In Python, yes/no are represented by True/False\n",
    "\n",
    "Be sure that it is written exactly in this way with the identation (the space before each line) is correct. You could use <kbd>TAB</kbd> to ident.\n",
    "\n",
    "Now try it in the code blocks below:"
   ]
  },
  {
   "cell_type": "code",
   "execution_count": null,
   "metadata": {
    "minecraft": {
     "overridePython": "def pickupBooks(direction):\n  if (agent.inspect(direction) == \"bookshelf\"):\n    agent.destroy(direction)\n    count = 0\n    if (agent.get_item(1) == \"bookshelf\"):\n      count = agent.get_item_count(1)\n      pass\n    agent.give(\"bookshelf\", count + 1, 1)\n    pass\n\ndef detectBooks(direction):\n  return agent.inspect(direction) == \"bookshelf\"\n\ndef placeBooks(direction):\n  if (agent.get_item(1) == \"bookshelf\" and agent.get_item_count(1) > 0):\n    agent.place(1, direction)\n    agent.give(\"bookshelf\", agent.get_item_count(1) - 1, 1)\n  else:\n    say(\"I don't have books to place!\")\n\ndef walkUpstairs():\n  agent.move(\"up\")\n  agent.move(\"forward\")\n\nagent.give(\"air\", 0, 1)\n@user-code"
    }
   },
   "outputs": [],
   "source": [
    "if (detectBooks(\"right\") == True):\n",
    "  pickupBooks(\"right\")\n",
    "  placeBooks(\"right\")"
   ]
  },
  {
   "cell_type": "markdown",
   "metadata": {},
   "source": [
    "# Walk Upstairs\n",
    "You could always use ```agent.move(\"up\")``` and ```agent.move(\"forward\")``` to move the agent upstairs, we have provided you a convenient method to do that:\n",
    "```walkUpstairs()```\n",
    "This will tell the agent to get up the stairs by 1 step."
   ]
  },
  {
   "cell_type": "markdown",
   "metadata": {},
   "source": [
    "# Now is your time to code!\n",
    "\n",
    "Remeber to reset your agent before run the code! You can click the \"Reset\" button at Coding Helper.\n",
    "Refer to the next page for any code blocks that might be used in this challenge."
   ]
  },
  {
   "cell_type": "code",
   "execution_count": null,
   "metadata": {
    "minecraft": {
     "overridePython": "def pickupBooks(direction):\n  if (agent.inspect(direction) == \"bookshelf\"):\n    agent.destroy(direction)\n    count = 0\n    if (agent.get_item(1) == \"bookshelf\"):\n      count = agent.get_item_count(1)\n      pass\n    agent.give(\"bookshelf\", count + 1, 1)\n    pass\n\ndef detectBooks(direction):\n  return agent.inspect(direction) == \"bookshelf\"\n\ndef placeBooks(direction):\n  if (agent.get_item(1) == \"bookshelf\" and agent.get_item_count(1) > 0):\n    agent.place(1, direction)\n    agent.give(\"bookshelf\", agent.get_item_count(1) - 1, 1)\n  else:\n    say(\"I don't have books to place!\")\n\ndef walkUpstairs():\n  agent.move(\"up\")\n  agent.move(\"forward\")\n\nagent.give(\"air\", 0, 1)\n@user-code"
    }
   },
   "outputs": [],
   "source": [
    "# Code Here !"
   ]
  },
  {
   "cell_type": "markdown",
   "metadata": {},
   "source": [
    "(c) Copyright Gamenoodlesoup 2021. https://gamenoodlesoup.com. A Minecraft Global Training Partner."
   ]
  }
 ],
 "metadata": {
  "kernelspec": {
   "display_name": "Python 3",
   "language": "python",
   "name": "python3"
  },
  "language_info": {
   "codemirror_mode": {
    "name": "ipython",
    "version": 3
   },
   "file_extension": ".py",
   "mimetype": "text/x-python",
   "name": "python",
   "nbconvert_exporter": "python",
   "pygments_lexer": "ipython3",
   "version": "3.8.3"
  },
  "minecraft": {
   "description": "Hard",
   "page_id": "1.0",
   "page_name": "Hard",
   "style": "minecraft.css"
  }
 },
 "nbformat": 4,
 "nbformat_minor": 4
}
