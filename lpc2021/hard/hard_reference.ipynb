{
 "cells": [
  {
   "cell_type": "markdown",
   "metadata": {},
   "source": [
    "# Code Reference\n",
    "In this task, in order to pick up the books, walk upstairs, and place down the books, here and the code reference you need:"
   ]
  },
  {
   "cell_type": "markdown",
   "metadata": {},
   "source": [
    "# Navigate Agents"
   ]
  },
  {
   "cell_type": "code",
   "execution_count": null,
   "metadata": {
    "minecraft": {
     "overridePython": "def pickupBooks(direction):\n  if (agent.inspect(direction) == \"bookshelf\"):\n    agent.destroy(direction)\n    count = 0\n    if (agent.get_item(1) == \"bookshelf\"):\n      count = agent.get_item_count(1)\n      pass\n    agent.give(\"bookshelf\", count + 1, 1)\n    pass\n\ndef detectBooks(direction):\n  return agent.inspect(direction) == \"bookshelf\"\n\ndef placeBooks(direction):\n  if (agent.get_item(1) == \"bookshelf\" and agent.get_item_count(1) > 0):\n    agent.place(1, direction)\n    agent.give(\"bookshelf\", agent.get_item_count(1) - 1, 1)\n  else:\n    say(\"I don't have books to place!\")\n\ndef walkUpstairs():\n  agent.move(\"up\")\n  agent.move(\"forward\")\n@user-code"
    }
   },
   "outputs": [],
   "source": [
    "agent.move(direction) # replace direction with the six directions: \"forward\", \"back\", \"left\", \"right\", \"up\", \"down\"\n",
    "agent.turn(direction) # replace direction with left/right: \"left\", \"right\""
   ]
  },
  {
   "cell_type": "markdown",
   "metadata": {},
   "source": [
    "# To repeat a command:"
   ]
  },
  {
   "cell_type": "code",
   "execution_count": null,
   "metadata": {
    "minecraft": {
     "overridePython": "def pickupBooks(direction):\n  if (agent.inspect(direction) == \"bookshelf\"):\n    agent.destroy(direction)\n    count = 0\n    if (agent.get_item(1) == \"bookshelf\"):\n      count = agent.get_item_count(1)\n      pass\n    agent.give(\"bookshelf\", count + 1, 1)\n    pass\n\ndef detectBooks(direction):\n  return agent.inspect(direction) == \"bookshelf\"\n\ndef placeBooks(direction):\n  if (agent.get_item(1) == \"bookshelf\" and agent.get_item_count(1) > 0):\n    agent.place(1, direction)\n    agent.give(\"bookshelf\", agent.get_item_count(1) - 1, 1)\n  else:\n    say(\"I don't have books to place!\")\n\ndef walkUpstairs():\n  agent.move(\"up\")\n  agent.move(\"forward\")\n@user-code"
    }
   },
   "outputs": [],
   "source": [
    "for i in range(5): # change 5 to the number of times to repeat\n",
    "  # code to repeat\n",
    "  pass"
   ]
  },
  {
   "cell_type": "markdown",
   "metadata": {},
   "source": [
    "# Walk upstairs:"
   ]
  },
  {
   "cell_type": "code",
   "execution_count": null,
   "metadata": {
    "minecraft": {
     "overridePython": "def pickupBooks(direction):\n  if (agent.inspect(direction) == \"bookshelf\"):\n    agent.destroy(direction)\n    count = 0\n    if (agent.get_item(1) == \"bookshelf\"):\n      count = agent.get_item_count(1)\n      pass\n    agent.give(\"bookshelf\", count + 1, 1)\n    pass\n\ndef detectBooks(direction):\n  return agent.inspect(direction) == \"bookshelf\"\n\ndef placeBooks(direction):\n  if (agent.get_item(1) == \"bookshelf\" and agent.get_item_count(1) > 0):\n    agent.place(1, direction)\n    agent.give(\"bookshelf\", agent.get_item_count(1) - 1, 1)\n  else:\n    say(\"I don't have books to place!\")\n\ndef walkUpstairs():\n  agent.move(\"up\")\n  agent.move(\"forward\")\n@user-code"
    }
   },
   "outputs": [],
   "source": [
    "walkUpstairs()"
   ]
  },
  {
   "cell_type": "markdown",
   "metadata": {},
   "source": [
    "# Books related code"
   ]
  },
  {
   "cell_type": "code",
   "execution_count": null,
   "metadata": {
    "minecraft": {
     "overridePython": "def pickupBooks(direction):\n  if (agent.inspect(direction) == \"bookshelf\"):\n    agent.destroy(direction)\n    count = 0\n    if (agent.get_item(1) == \"bookshelf\"):\n      count = agent.get_item_count(1)\n      pass\n    agent.give(\"bookshelf\", count + 1, 1)\n    pass\n\ndef detectBooks(direction):\n  return agent.inspect(direction) == \"bookshelf\"\n\ndef placeBooks(direction):\n  if (agent.get_item(1) == \"bookshelf\" and agent.get_item_count(1) > 0):\n    agent.place(1, direction)\n    agent.give(\"bookshelf\", agent.get_item_count(1) - 1, 1)\n  else:\n    say(\"I don't have books to place!\")\n\ndef walkUpstairs():\n  agent.move(\"up\")\n  agent.move(\"forward\")\n@user-code"
    }
   },
   "outputs": [],
   "source": [
    "if (detectBooks(\"right\") == True):\n",
    "  pickupBooks(\"right\")\n",
    "  placeBooks(\"right\")"
   ]
  },
  {
   "cell_type": "code",
   "execution_count": null,
   "metadata": {
    "minecraft": {
     "hidden": true,
     "overridePython": "def pickupBooks(direction):\n  if (agent.inspect(direction) == \"bookshelf\"):\n    agent.destroy(direction)\n    count = 0\n    if (agent.get_item(1) == \"bookshelf\"):\n      count = agent.get_item_count(1)\n      pass\n    agent.give(\"bookshelf\", count + 1, 1)\n    pass\n\ndef detectBooks(direction):\n  return agent.inspect(direction) == \"bookshelf\"\n\ndef placeBooks(direction):\n  if (agent.get_item(1) == \"bookshelf\" and agent.get_item_count(1) > 0):\n    agent.place(1, direction)\n    agent.give(\"bookshelf\", agent.get_item_count(1) - 1, 1)\n  else:\n    say(\"I don't have books to place!\")\n\ndef walkUpstairs():\n  agent.move(\"up\")\n  agent.move(\"forward\")\n@user-code"
    }
   },
   "outputs": [],
   "source": [
    "for attr in dir(player):\n",
    "  say(getattr(player, attr))\n",
    "\n",
    "def pickupBooks(direction):\n",
    "  if (agent.inspect(direction) == \"bookshelf\"):\n",
    "    agent.destroy(direction)\n",
    "    count = 0\n",
    "    if (agent.get_item == \"bookshelf\"):\n",
    "      count = agent.get_item_count(1)\n",
    "      pass\n",
    "    agent.give(\"bookshelf\", count + 1, 1)\n",
    "    pass\n",
    "\n",
    "def detectBooks(direction):\n",
    "  return agent.inspect(direction) == \"bookshelf\"\n",
    "\n",
    "def placeBooks(direction):\n",
    "  if (agent.get_item == \"bookshelf\" and agent.get_item_count(1) > 0):\n",
    "    agent.place(direction)\n",
    "  else:\n",
    "    say(\"I don't have books to place!\")\n",
    "\n",
    "if (detectBooks(\"right\") == True):\n",
    "  pickupBooks(\"right\")\n",
    "  placeBooks(\"right\")\n"
   ]
  },
  {
   "cell_type": "markdown",
   "metadata": {},
   "source": [
    "(c) Copyright Gamenoodlesoup 2021. https://gamenoodlesoup.com. A Minecraft Global Training Partner."
   ]
  }
 ],
 "metadata": {
  "kernelspec": {
   "display_name": "Python 3",
   "language": "python",
   "name": "python3"
  },
  "language_info": {
   "codemirror_mode": {
    "name": "ipython",
    "version": 3
   },
   "file_extension": ".py",
   "mimetype": "text/x-python",
   "name": "python",
   "nbconvert_exporter": "python",
   "pygments_lexer": "ipython3",
   "version": "3.8.3"
  },
  "minecraft": {
   "description": "Code Reference",
   "page_id": "1.0",
   "page_name": "Code Reference",
   "style": "minecraft.css"
  }
 },
 "nbformat": 4,
 "nbformat_minor": 4
}
