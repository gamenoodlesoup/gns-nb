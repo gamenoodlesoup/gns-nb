{
 "cells": [
  {
   "cell_type": "markdown",
   "metadata": {},
   "source": [
    "# Bookshelf on the stairs\n",
    "## Difficulty: Hard\n",
    "\n",
    "![Hard Task Image](hard_task.png)\n",
    "\n",
    "We have a bunch of books here that needs to be moved to the classroom on the top floor. Could you help coding the agent robot to do all of this, so all of us could save much stamina walking up and down?\n",
    "\n",
    "You have to do the following:\n",
    "\n",
    "1. Guide the agent to pick up the bookshelf. \n",
    "\n",
    "2. Guide the agent to move in different directions. \n",
    "\n",
    "3. Guide the agent to walk up the stairs to reach the classroom. \n",
    "\n",
    "4. Turn the agent to different sides when necessary."
   ]
  },
  {
   "cell_type": "markdown",
   "metadata": {},
   "source": [
    "# Try it out first!\n",
    "\n",
    "Try to run the following command and see how the ```agent.destroy(\"right\")``` line works!"
   ]
  },
  {
   "cell_type": "code",
   "execution_count": null,
   "metadata": {},
   "outputs": [],
   "source": [
    "agent.destroy(\"right\")"
   ]
  }
 ],
 "metadata": {
  "language_info": {
   "name": "python"
  },
  "orig_nbformat": 4
 },
 "nbformat": 4,
 "nbformat_minor": 2
}
