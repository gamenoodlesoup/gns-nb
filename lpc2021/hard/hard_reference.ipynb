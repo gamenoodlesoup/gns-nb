{
 "cells": [
  {
   "cell_type": "markdown",
   "metadata": {},
   "source": [
    "# Code Reference\n",
    "\n",
    "These are reference for you if you forget how it work."
   ]
  },
  {
   "cell_type": "markdown",
   "metadata": {},
   "source": [
    "# Moving & Turning\n",
    "\n",
    "```\n",
    "agent.move(<direction>) # replace <direction> with the six directions: \"forward\", \"back\", \"left\", \"right\", \"up\", \"down\"\n",
    "agent.turn(<direction>) # replace <direction> with left/right: \"left\", \"right\"\n",
    "```"
   ]
  },
  {
   "cell_type": "code",
   "execution_count": null,
   "metadata": {},
   "outputs": [],
   "source": [
    "agent.move(\"forward\")\n",
    "agent.turn(\"left\")"
   ]
  },
  {
   "cell_type": "markdown",
   "metadata": {},
   "source": [
    "# LOOP\n",
    "\n",
    "```\n",
    "for i in range(5):\n",
    "  # your codea\n",
    "  pass\n",
    "```\n",
    "\n",
    "What we have here\n",
    "- <b>for</b>: a keyword for looping (repeating) the commands\n",
    "- <b>i</b>: a variable name, could be any, but most programmers use i\n",
    "- <b>range(a number)</b>: this define how many times the commands will be run\n",
    "\n",
    "Be sure that it is written exactly in this way with the identation (the space before each line) is correct. You could use <kbd>TAB</kbd> to ident."
   ]
  },
  {
   "cell_type": "code",
   "execution_count": null,
   "metadata": {},
   "outputs": [],
   "source": [
    "for i in range(5):\n",
    "  agent.move(\"forward\")\n",
    "  pass"
   ]
  }
 ],
 "metadata": {
  "language_info": {
   "name": "python"
  },
  "orig_nbformat": 4
 },
 "nbformat": 4,
 "nbformat_minor": 2
}
