{
 "cells": [
  {
   "cell_type": "markdown",
   "metadata": {},
   "source": [
    "# Puddles on the Tennis Courts\n",
    "## Difficulty: Normal\n",
    "\n",
    "![Normal Task Image](normal_task.jpg)\n",
    "\n",
    "There are a lot of puddles on the tennis courts after heavy rain, just like the entrance that are littered with trees. Could you guide the robot through the puddle maze so that we could clean the courts up?\n",
    "\n",
    "You have to do the following:\n",
    "\n",
    "1. Guide the agent to move in different directions. \n",
    "\n",
    "2. Turn the agent to different sides when necessary. "
   ]
  },
  {
   "cell_type": "markdown",
   "metadata": {},
   "source": [
    "# Failure Conditions\n",
    "Be careful! If the agent fell into the puddles, you will have to try again."
   ]
  },
  {
   "cell_type": "markdown",
   "metadata": {},
   "source": [
    "# Try it out first!\n",
    "\n",
    "Try to run the following command and see how the ```agent.move(\"forward\")``` line and the turning line ```agent.turn(\"left\")``` works!"
   ]
  },
  {
   "cell_type": "code",
   "execution_count": null,
   "metadata": {},
   "outputs": [],
   "source": [
    "agent.move(\"forward\")\n",
    "agent.turn(\"left\")"
   ]
  },
  {
   "cell_type": "markdown",
   "metadata": {},
   "source": [
    "# Move the agent multiple steps\n",
    "Now we could only move the agent by 1 step on 1 line. In Python, we have to use a loop function to repeat the commands. The loop functions looks like this:\n",
    "```\n",
    "for i in range(5):\n",
    "  agent.move(\"forward\")\n",
    "  pass\n",
    "```\n",
    "\n",
    "What we have here\n",
    "- <b>for</b>: a keyword for looping (repeating) the commands\n",
    "- <b>i</b>: a variable name, could be any, but most programmers use i\n",
    "- <b>range(a number)</b>: this define how many times the commands will be run\n",
    "\n",
    "Be sure that it is written exactly in this way with the identation (the space before each line) is correct. You could use <kbd>TAB</kbd> to ident.\n",
    "\n",
    "Now try it in the code blocks below:\n"
   ]
  },
  {
   "cell_type": "code",
   "execution_count": null,
   "metadata": {},
   "outputs": [],
   "source": [
    "for i in range(5):\n",
    "  agent.move(\"forward\")\n",
    "  pass"
   ]
  },
  {
   "cell_type": "markdown",
   "metadata": {},
   "source": [
    "# Code Reference\n",
    "\n",
    "In this task, in order to move the agent around the tennis courts, you only have to use the following:\n",
    "```\n",
    "agent.move(<direction>) # replace <direction> with the six directions: \"forward\", \"back\", \"left\", \"right\", \"up\", \"down\"\n",
    "agent.turn(<direction>) # replace <direction> with left/right: \"left\", \"right\"\n",
    "\n",
    "for i in range(5):\n",
    "  # your code\n",
    "  pass\n",
    "```"
   ]
  },
  {
   "cell_type": "markdown",
   "metadata": {},
   "source": [
    "# Be sure when you code\n",
    "Codes are quite stubborn interpreter that if you got any of the keyword/name wrongs (letter casing also counts!), it will not work. Look for:\n",
    "1. Whether all spelling and casing are right (lowercase for most of the time)\n",
    "2. The red curly underlines - those are error checks by the coding interface. If there are underlines, check again your typings."
   ]
  },
  {
   "cell_type": "markdown",
   "metadata": {},
   "source": [
    "# Now is your time to code!\n",
    "\n",
    "Remeber to reset your agent before run the code! You can click the \"Reset\" button at Coding Helper."
   ]
  },
  {
   "cell_type": "code",
   "execution_count": null,
   "metadata": {
    "minecraft": {
     "onCodeSuccessfulCommand": "execute @s ~ ~ ~ function easy/check",
     "onCodeStoppedCommand": "execute @s ~ ~ ~ function easy/check",
     "overridePython": "@user-code"
    }
   },
   "outputs": [],
   "source": [
    "agent.move(\"forward\")\n",
    "agent.turn(\"left\")"
   ]
  },
  {
   "cell_type": "markdown",
   "metadata": {},
   "source": [
    "(c) Copyright Gamenoodlesoup 2021. https://gamenoodlesoup.com. A Minecraft Global Training Partner."
   ]
  }
 ],
 "metadata": {
  "kernelspec": {
   "display_name": "Python 3 (ipykernel)",
   "language": "python",
   "name": "python3"
  },
  "language_info": {
   "codemirror_mode": {
    "name": "ipython",
    "version": 3
   },
   "file_extension": ".py",
   "mimetype": "text/x-python",
   "name": "python",
   "nbconvert_exporter": "python",
   "pygments_lexer": "ipython3",
   "version": "3.9.1"
  },
  "minecraft": {
   "description": "Normal Task",
   "page_id": "1.0",
   "page_name": "Normal Task",
   "style": "minecraft.css"
  }
 },
 "nbformat": 4,
 "nbformat_minor": 5
}
