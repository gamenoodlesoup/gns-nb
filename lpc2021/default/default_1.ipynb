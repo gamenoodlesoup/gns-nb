{
 "cells": [
  {
   "cell_type": "markdown",
   "metadata": {},
   "source": [
    "# Default Coding\n",
    "\n",
    "This is the default coding notebook. There is no coding tasks here. You could play around with codes freely."
   ]
  },
  {
   "cell_type": "code",
   "execution_count": null,
   "metadata": {
    "minecraft": {
      "overridePython": "\nlistenTuple = []class player:    @classmethod    def on_chat(self, message, obj):        listenTuple.append((message, obj))        passdef on_player_message(message, sender, receiver, messageType):    run_check(message)    passdef run_check(message):    for listener in listenTuple:        if (listener[0] == message):            listener[1]()\n@user-code"
    }
   },
   "outputs": [],
   "source": [
    "def run_program():\n",
    "  // insert your code here!\n",
    "  pass\n",
    "\n",
    "player.on_chat('run', run_program)"
   ]
  },
  {
   "cell_type": "markdown",
   "metadata": {},
   "source": [
    "(c) Copyright Gamenoodlesoup 2021. https://gamenoodlesoup.com. A Minecraft Global Training Partner."
   ]
  }
 ],
 "metadata": {
  "interpreter": {
   "hash": "5c3b02fa24688d32a1d09351b7f8eac82a87272ad081601c73caead00a8e1fc4"
  },
  "kernelspec": {
   "display_name": "Python 2.7.18 64-bit (system)",
   "name": "python3"
  },
  "language_info": {
   "name": "python",
   "version": "2.7.18"
  },
  "orig_nbformat": 4
 },
 "nbformat": 4,
 "nbformat_minor": 2
}
