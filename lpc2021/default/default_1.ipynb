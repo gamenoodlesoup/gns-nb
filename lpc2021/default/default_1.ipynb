{
 "cells": [
  {
   "cell_type": "markdown",
   "metadata": {},
   "source": [
    "# Default Coding\n",
    "\n",
    "This is the default coding notebook. There is no coding tasks here. You could play around with codes freely."
   ]
  },
  {
   "cell_type": "code",
   "execution_count": null,
   "metadata": {
    "minecraft": {
     "overridePython": "\nlistenTuple = []\nclass player:\n    @classmethod\n    def on_chat(self, message, obj):\n        listenTuple.append((message, obj))\n        pass\ndef on_player_message(message, sender, receiver, messageType):\n    run_check(message)\n    pass\ndef run_check(message):\n    for listener in listenTuple:\n        if (listener[0] == message):\n            listener[1]()\n@user-code"
    }
   },
   "outputs": [],
   "source": [
    "def run_program():\n",
    "  # insert your code here!\n",
    "  pass\n",
    "\n",
    "player.on_chat('run', run_program)"
   ]
  },
  {
   "cell_type": "markdown",
   "metadata": {},
   "source": [
    "(c) Copyright Gamenoodlesoup 2021. https://gamenoodlesoup.com. A Minecraft Global Training Partner."
   ]
  }
 ],
 "metadata": {
  "kernelspec": {
   "display_name": "Python 3",
   "language": "python",
   "name": "python3"
  },
  "language_info": {
   "codemirror_mode": {
    "name": "ipython",
    "version": 3
   },
   "file_extension": ".py",
   "mimetype": "text/x-python",
   "name": "python",
   "nbconvert_exporter": "python",
   "pygments_lexer": "ipython3",
   "version": "3.8.3"
  },
  "minecraft": {
   "description": "Default",
   "page_id": "1.0",
   "page_name": "Default",
   "style": "minecraft.css"
  }
 },
 "nbformat": 4,
 "nbformat_minor": 4
}
