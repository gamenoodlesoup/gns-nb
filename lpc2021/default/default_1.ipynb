{
 "cells": [
  {
   "cell_type": "markdown",
   "metadata": {},
   "source": [
    "# Default Coding\n",
    "\n",
    "This is the default coding notebook. There is no coding tasks here. You could play around with codes freely."
   ]
  },
  {
   "cell_type": "code",
   "execution_count": null,
   "metadata": {
    "minecraft": {
     "onCodeSuccessfulCommand": "tell @s Code Execution Successful!",
     "onCodeStoppedCommand": "tell @s Code Execution Stopped!",
     "overridePython": "\nlistenTuple = []\nclass player:\n    @classmethod\n    def on_chat(self, message, obj):\n        listenTuple.append((message, obj))\n        pass\ndef on_player_message(message, sender, receiver, messageType):\n    run_check(message)\n    pass\ndef run_check(message):\n    for listener in listenTuple:\n        if (listener[0] == message):\n            listener[1]()\n@user-code"
    }
   },
   "outputs": [],
   "source": [
    "def run_program():\n",
    "  # insert your code here!\n",
    "  pass\n",
    "\n",
    "player.on_chat('run', run_program)"
   ]
  },
  {
   "cell_type": "markdown",
   "metadata": {},
   "source": [
    "(c) Copyright Gamenoodlesoup 2021. https://gamenoodlesoup.com. A Minecraft Global Training Partner."
   ]
  }
 ],
 "metadata": {
  "interpreter": {
   "hash": "5c3b02fa24688d32a1d09351b7f8eac82a87272ad081601c73caead00a8e1fc4"
  },
  "kernelspec": {
   "display_name": "Python 2.7.18 64-bit (system)",
   "name": "python3"
  },
  "language_info": {
   "codemirror_mode": {
    "name": "ipython",
    "version": 3
   },
   "file_extension": ".py",
   "mimetype": "text/x-python",
   "name": "python",
   "nbconvert_exporter": "python",
   "pygments_lexer": "ipython3",
   "version": "2.7.18"
  },
  "minecraft": {
   "description": "Default",
   "page_id": "1.0",
   "page_name": "Default",
   "style": "minecraft.css"
  }
 },
 "nbformat": 4,
 "nbformat_minor": 4
}
