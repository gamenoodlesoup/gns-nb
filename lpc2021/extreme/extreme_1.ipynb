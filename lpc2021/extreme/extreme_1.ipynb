{
 "cells": [
  {
   "cell_type": "markdown",
   "metadata": {},
   "source": [
    "# Laundry Collection Challenge\n",
    "## Difficulty: Extreme\n",
    "\n",
    "![Extreme Task Image](extreme_task.png)\n",
    "\n",
    "I have three floors worth of laundry baskets to collect, but I don't want to go walking myself. Could you code the agent robot so that it will collect all baskets and send it to the laundry room?\n",
    "\n",
    "You have to do the following:\n",
    "\n",
    "1. Guide the agent to pick up the laundry baskets. \n",
    "\n",
    "2. Guide the agent to walk down the stairs to reach the laundry room. \n",
    "\n",
    "3. Guide the agent to place down the laundry baskets."
   ]
  },
  {
   "cell_type": "markdown",
   "metadata": {},
   "source": [
    "# Try it out first!\n",
    "\n",
    "Try to run the following command and see how the ```pickupLaundry(<direction>)``` and ```placeLaundry(<direction>)``` line works!"
   ]
  },
  {
   "cell_type": "code",
   "execution_count": null,
   "metadata": {
    "minecraft": {
      "overridePython": "def pickupLaundry(direction):\n  if (agent.inspect(direction) == \"composter\"):\n    agent.destroy(direction)\n    count = 0\n    if (agent.get_item(1) == \"composter\"):\n      count = agent.get_item_count(1)\n      pass\n    agent.give(\"composter\", count + 1, 1)\n    pass\n\ndef detectLaundry(direction):\n  return agent.inspect(direction) == \"composter\"\n\ndef placeLaundry(direction):\n  if (agent.get_item(1) == \"composter\" and agent.get_item_count(1) > 0):\n    agent.place(direction)\n  else:\n    say(\"I don't have laundry to place!\")\n\ndef canWalkForward():\n  return agent.inspect(\"forward\") == \"air\" or agent.inspect(\"forward\") == \"quartz_stairs\"\n@user-code"
    }
   },
   "outputs": [],
   "source": [
    "pickupLaundry(\"right\")\n",
    "placeLaundry(\"right\")"
   ]
  },
  {
   "cell_type": "markdown",
   "metadata": {},
   "source": [
    "# While Conditions\n",
    "\n",
    "In this challenge, you need to walk through the corridors to collect the laundry, and the laundry is not regularly spaced for codes just loop. Therefore, it is better to run through the corridor until you hit the stairs/fence at the end of the corridor.\n",
    "\n",
    "To do that in Python, we have a while conditions loop. \n",
    "```\n",
    "while (canWalkForward == True):\n",
    "  agent.move(\"forward\")\n",
    "  if (detectLaundry(\"right\") == True):\n",
    "    pickupLaundry(\"right\")\n",
    "    pass\n",
    "```\n",
    "\n",
    "What we have here\n",
    "- <b>while (conditions)</b>: a keyword for while conditions, you have to use a pair of parentheses to quote the conditions. It will run indefinitely until the conditions are not met. \n",
    "- <b>canWalkForward(\"right\") == True</b>: In this code block when used with the while keyword: The agent can walk forward until it would hit some blocks. Be sure to use ```==``` rather than ```=``` for the conditional checks.\n",
    "- <b>True</b>: In Python, yes/no are represented by True/False.\n",
    "- <b>agent.move(\"forward\")</b>: If the agent could move forward without hitting blocks, move forward by 1.\n",
    "- <b>detectLaundry(\"right\") == True</b>: When there are laundry on the right of the agent.\n",
    "- <b>pickupLaundry(\"right\")</b>: Pickup Laundry on the right.\n",
    "\n",
    "Be sure that it is written exactly in this way with the identation (the space before each line) is correct. You could use <kbd>TAB</kbd> to ident. Be careful there might be double identation if the conditions are nested (i.e. Conditions in conditions)"
   ]
  },
  {
   "cell_type": "code",
   "execution_count": null,
   "metadata": {
    "minecraft": {
      "overridePython": "def pickupLaundry(direction):\n  if (agent.inspect(direction) == \"composter\"):\n    agent.destroy(direction)\n    count = 0\n    if (agent.get_item(1) == \"composter\"):\n      count = agent.get_item_count(1)\n      pass\n    agent.give(\"composter\", count + 1, 1)\n    pass\n\ndef detectLaundry(direction):\n  return agent.inspect(direction) == \"composter\"\n\ndef placeLaundry(direction):\n  if (agent.get_item(1) == \"composter\" and agent.get_item_count(1) > 0):\n    agent.place(direction)\n  else:\n    say(\"I don't have laundry to place!\")\n\ndef canWalkForward():\n  return agent.inspect(\"forward\") == \"air\" or agent.inspect(\"forward\") == \"quartz_stairs\"\n@user-code"
    }
   },
   "outputs": [],
   "source": [
    "while (canWalkForward == True):\n",
    "  agent.move(\"forward\")\n",
    "  if (detectLaundry(\"right\") == True):\n",
    "    pickupLaundry(\"right\")\n",
    "    pass"
   ]
  },
  {
   "cell_type": "markdown",
   "metadata": {},
   "source": [
    "# Walk Downstairs\n",
    "You could always use ```agent.move(\"down\")``` and ```agent.move(\"forward\")``` to move the agent upstairs, we have provided you a convenient method to do that:\n",
    "```walkDownstairs()```\n",
    "This will tell the agent to get down the stairs by 1 step."
   ]
  },
  {
   "cell_type": "markdown",
   "metadata": {},
   "source": [
    "# Now is your time to code!\n",
    "\n",
    "Remeber to reset your agent before run the code! You can click the \"Reset\" button at Coding Helper.\n",
    "Refer to the next page for any code blocks that might be used in this challenge."
   ]
  },
  {
   "cell_type": "code",
   "execution_count": null,
   "metadata": {
    "minecraft": {
      "overridePython": "def pickupLaundry(direction):\n  if (agent.inspect(direction) == \"composter\"):\n    agent.destroy(direction)\n    count = 0\n    if (agent.get_item(1) == \"composter\"):\n      count = agent.get_item_count(1)\n      pass\n    agent.give(\"composter\", count + 1, 1)\n    pass\n\ndef detectLaundry(direction):\n  return agent.inspect(direction) == \"composter\"\n\ndef placeLaundry(direction):\n  if (agent.get_item(1) == \"composter\" and agent.get_item_count(1) > 0):\n    agent.place(direction)\n  else:\n    say(\"I don't have laundry to place!\")\n\ndef canWalkForward():\n  return agent.inspect(\"forward\") == \"air\" or agent.inspect(\"forward\") == \"quartz_stairs\"\n@user-code"
    }
   },
   "outputs": [],
   "source": [
    "# Code Here !"
   ]
  },
  {
   "cell_type": "markdown",
   "metadata": {},
   "source": [
    "(c) Copyright Gamenoodlesoup 2021. https://gamenoodlesoup.com. A Minecraft Global Training Partner."
   ]
  }
 ],
 "metadata": {
  "kernelspec": {
   "display_name": "Python 3 (ipykernel)",
   "language": "python",
   "name": "python3"
  },
  "language_info": {
   "codemirror_mode": {
    "name": "ipython",
    "version": 3
   },
   "file_extension": ".py",
   "mimetype": "text/x-python",
   "name": "python",
   "nbconvert_exporter": "python",
   "pygments_lexer": "ipython3",
   "version": "3.9.1"
  },
  "minecraft": {
   "description": "Extreme",
   "page_id": "1.0",
   "page_name": "Extreme",
   "style": "minecraft.css"
  }
 },
 "nbformat": 4,
 "nbformat_minor": 5
}
