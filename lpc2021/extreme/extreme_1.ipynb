{
 "cells": [
  {
   "cell_type": "markdown",
   "metadata": {},
   "source": [
    "# Laundry Collection Challenge\n",
    "## Difficulty: Extreme\n",
    "\n",
    "![Extreme Task Image](extreme_task.png)\n",
    "\n",
    "I have three floors worth of laundry baskets to collect, but I don't want to go walking myself. Could you code the agent robot so that it will collect all baskets and send it to the laundry room?\n",
    "\n",
    "You have to do the following:\n",
    "\n",
    "1. Guide the agent to pick up the laundry baskets. \n",
    "\n",
    "2. Guide the agent to walk down the stairs to reach the laundry room. \n",
    "\n",
    "3. Guide the agent to place down the laundry baskets."
   ]
  },
  {
   "cell_type": "markdown",
   "metadata": {},
   "source": [
    "# Try it out first!\n",
    "\n",
    "Try to run the following command and see how the ```pickupLaundry(<direction>)``` and ```placeLaundry(<direction>)``` line works!"
   ]
  },
  {
   "cell_type": "code",
   "execution_count": null,
   "metadata": {},
   "outputs": [],
   "source": [
    "pickupLaundry(\"right\")\n",
    "placeLaundry(\"right\")"
   ]
  },
  {
   "cell_type": "markdown",
   "metadata": {},
   "source": [
    "# While Conditions\n",
    "\n",
    "It is better for us to detect whether there are laundry baskets there before picking up laundry baskets. In python, we have while conditionals, just like the ones in English:\n",
    "```\n",
    "while (detectLaundry(\"right\") == True):\n",
    "  pickupLaundry(\"right\")\n",
    "```\n",
    "\n",
    "What we have here\n",
    "- <b>while (conditions)</b>: a keyword for while conditions, you have to use a pair of parentheses to quote the conditions.\n",
    "- <b> detectLaundry(\"right\") == True</b>: detect  laundry baskets on the right is true - there are  laundry baskets on the right, be sure to use ```==``` rather than ```=``` for the conditional checks.\n",
    "- <b>True</b>: In Python, yes/no are represented by True/False\n",
    "\n",
    "Be sure that it is written exactly in this way with the identation (the space before each line) is correct. You could use <kbd>TAB</kbd> to ident.\n",
    "\n",
    "Now try it in the code blocks below:"
   ]
  },
  {
   "cell_type": "code",
   "execution_count": null,
   "metadata": {},
   "outputs": [],
   "source": [
    "while (detectLaundry(\"right\") == True):\n",
    " pickupLaundry(\"right\")\n",
    " placeLaundry(\"right\")"
   ]
  },
  {
   "cell_type": "markdown",
   "metadata": {},
   "source": [
    "# Walk Downstairs\n",
    "You could always use ```agent.move(\"down\")``` and ```agent.move(\"forward\")``` to move the agent upstairs, we have provided you a convenient method to do that:\n",
    "```walkDownstairs()```\n",
    "This will tell the agent to get down the stairs by 1 step."
   ]
  },
  {
   "cell_type": "markdown",
   "metadata": {},
   "source": [
    "# Now is your time to code!\n",
    "\n",
    "Remeber to reset your agent before run the code! You can click the \"Reset\" button at Coding Helper."
   ]
  },
  {
   "cell_type": "code",
   "execution_count": null,
   "metadata": {},
   "outputs": [],
   "source": [
    "# Code Here !"
   ]
  },
  {
   "cell_type": "markdown",
   "metadata": {},
   "source": [
    "(c) Copyright Gamenoodlesoup 2021. https://gamenoodlesoup.com. A Minecraft Global Training Partner."
   ]
  }
 ],
 "metadata": {
  "kernelspec": {
   "display_name": "Python 3 (ipykernel)",
   "language": "python",
   "name": "python3"
  },
  "language_info": {
   "codemirror_mode": {
    "name": "ipython",
    "version": 3
   },
   "file_extension": ".py",
   "mimetype": "text/x-python",
   "name": "python",
   "nbconvert_exporter": "python",
   "pygments_lexer": "ipython3",
   "version": "3.9.1"
  },
  "minecraft": {
   "description": "Extreme Task",
   "page_id": "1.0",
   "page_name": "Extreme Task",
   "style": "minecraft.css"
  }
 },
 "nbformat": 4,
 "nbformat_minor": 5
}
