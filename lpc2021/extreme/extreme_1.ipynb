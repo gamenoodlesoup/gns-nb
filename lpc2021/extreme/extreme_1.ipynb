{
 "cells": [
  {
   "cell_type": "markdown",
   "metadata": {},
   "source": [
    "# Laundry Collection Challenge\n",
    "## Difficulty: Extreme\n",
    "\n",
    "![Extreme Task Image](extreme_task.png)\n",
    "\n",
    "I have three floors worth of laundry baskets to collect, but I don't want to go walking myself. Could you code the agent robot so that it will collect all baskets and send it to the laundry room?\n",
    "\n",
    "You have to do the following:\n",
    "\n",
    "1. Guide the agent to pick up and put down the laundry baskets. \n",
    "\n",
    "2. Guide the agent to move in different directions. \n",
    "\n",
    "3. Guide the agent to walk down the stairs to reach the laundry room. \n",
    "\n",
    "4. Turn the agent to different sides when necessary."
   ]
  }
 ],
"metadata": {
  "kernelspec": {
   "display_name": "Python 3 (ipykernel)",
   "language": "python",
   "name": "python3"
  },
  "language_info": {
   "codemirror_mode": {
    "name": "ipython",
    "version": 3
   },
   "file_extension": ".py",
   "mimetype": "text/x-python",
   "name": "python",
   "nbconvert_exporter": "python",
   "pygments_lexer": "ipython3",
   "version": "3.9.1"
  },
  "minecraft": {
   "description": "Extreme Task",
   "page_id": "1.0",
   "page_name": "Extreme Task",
   "style": "minecraft.css"
  }
 },
 "nbformat": 4,
 "nbformat_minor": 5
}