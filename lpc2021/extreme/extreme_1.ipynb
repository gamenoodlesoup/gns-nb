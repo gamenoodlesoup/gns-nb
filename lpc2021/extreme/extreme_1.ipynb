{
 "cells": [
  {
   "cell_type": "markdown",
   "metadata": {},
   "source": [
    "# Laundry Collection Challenge\n",
    "## Difficulty: Extreme\n",
    "\n",
    "![Extreme Task Image](extreme_task.png)\n",
    "\n",
    "I have three floors worth of laundry baskets to collect, but I don't want to go walking myself. Could you code the agent robot so that it will collect all baskets and send it to the laundry room?\n",
    "\n",
    "You have to do the following:\n",
    "\n",
    "1. Guide the agent to pick up and put down the laundry baskets. \n",
    "\n",
    "2. Guide the agent to move in different directions. \n",
    "\n",
    "3. Guide the agent to walk down the stairs to reach the laundry room. \n",
    "\n",
    "4. Turn the agent to different sides when necessary."
   ]
  }
 ],
 "metadata": {
  "language_info": {
   "name": "python"
  },
  "orig_nbformat": 4
 },
 "nbformat": 4,
 "nbformat_minor": 2
}
