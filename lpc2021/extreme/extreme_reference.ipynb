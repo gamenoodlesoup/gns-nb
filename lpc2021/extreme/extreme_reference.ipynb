{
 "cells": [
  {
   "cell_type": "markdown",
   "metadata": {},
   "source": [
    "# Code Reference\n",
    "\n",
    "In this task, in order to pick up the laundry baskets, walk downstairs, and place down the laundry baskets, here and the code reference you need:"
   ]
  },
  {
   "cell_type": "markdown",
   "metadata": {},
   "source": [
    "# Navigate Agents"
   ]
  },
  {
   "cell_type": "code",
   "execution_count": null,
   "metadata": {
    "minecraft": {
     "overridePython": "def pickupLaundry(direction):\n  if (agent.inspect(direction) == \"composter\"):\n    agent.destroy(direction)\n    count = 0\n    if (agent.get_item(1) == \"composter\"):\n      count = agent.get_item_count(1)\n      pass\n    agent.give(\"composter\", count + 1, 1)\n    pass\n\ndef detectLaundry(direction):\n  return agent.inspect(direction) == \"composter\"\n\ndef placeLaundry(direction):\n  if (agent.get_item(1) == \"composter\" and agent.get_item_count(1) > 0):\n    agent.place(1, direction)\n  else:\n    say(\"I don't have laundry to place!\")\n\ndef canWalkForward():\n  return agent.inspect(\"forward\") == \"air\" and agent.inspect(\"forward\") != \"quartz_stairs\"\n@user-code"
    }
   },
   "outputs": [],
   "source": [
    "agent.move(direction) # replace direction with the six directions: \"forward\", \"back\", \"left\", \"right\", \"up\", \"down\"\n",
    "agent.turn(direction) # replace direction with left/right: \"left\", \"right\""
   ]
  },
  {
   "cell_type": "markdown",
   "metadata": {},
   "source": [
    "# To repeat a command:"
   ]
  },
  {
   "cell_type": "code",
   "execution_count": null,
   "metadata": {
    "minecraft": {
     "overridePython": "def pickupLaundry(direction):\n  if (agent.inspect(direction) == \"composter\"):\n    agent.destroy(direction)\n    count = 0\n    if (agent.get_item(1) == \"composter\"):\n      count = agent.get_item_count(1)\n      pass\n    agent.give(\"composter\", count + 1, 1)\n    pass\n\ndef detectLaundry(direction):\n  return agent.inspect(direction) == \"composter\"\n\ndef placeLaundry(direction):\n  if (agent.get_item(1) == \"composter\" and agent.get_item_count(1) > 0):\n    agent.place(1, direction)\n  else:\n    say(\"I don't have laundry to place!\")\n\ndef canWalkForward():\n  return agent.inspect(\"forward\") == \"air\" and agent.inspect(\"forward\") != \"quartz_stairs\"\n@user-code"
    }
   },
   "outputs": [],
   "source": [
    "for i in range(5): # change 5 to the number of times to repeat\n",
    "  # code to repeat\n",
    "  pass"
   ]
  },
  {
   "cell_type": "markdown",
   "metadata": {},
   "source": [
    "# Walk downstairs:"
   ]
  },
  {
   "cell_type": "code",
   "execution_count": null,
   "metadata": {
    "minecraft": {
     "overridePython": "def pickupLaundry(direction):\n  if (agent.inspect(direction) == \"composter\"):\n    agent.destroy(direction)\n    count = 0\n    if (agent.get_item(1) == \"composter\"):\n      count = agent.get_item_count(1)\n      pass\n    agent.give(\"composter\", count + 1, 1)\n    pass\n\ndef detectLaundry(direction):\n  return agent.inspect(direction) == \"composter\"\n\ndef placeLaundry(direction):\n  if (agent.get_item(1) == \"composter\" and agent.get_item_count(1) > 0):\n    agent.place(1, direction)\n  else:\n    say(\"I don't have laundry to place!\")\n\ndef canWalkForward():\n  return agent.inspect(\"forward\") == \"air\" and agent.inspect(\"forward\") != \"quartz_stairs\"\n@user-code"
    }
   },
   "outputs": [],
   "source": [
    "walkDownstairs()"
   ]
  },
  {
   "cell_type": "markdown",
   "metadata": {},
   "source": [
    "# To use if conditions on command:"
   ]
  },
  {
   "cell_type": "code",
   "execution_count": null,
   "metadata": {
    "minecraft": {
     "overridePython": "def pickupLaundry(direction):\n  if (agent.inspect(direction) == \"composter\"):\n    agent.destroy(direction)\n    count = 0\n    if (agent.get_item(1) == \"composter\"):\n      count = agent.get_item_count(1)\n      pass\n    agent.give(\"composter\", count + 1, 1)\n    pass\n\ndef detectLaundry(direction):\n  return agent.inspect(direction) == \"composter\"\n\ndef placeLaundry(direction):\n  if (agent.get_item(1) == \"composter\" and agent.get_item_count(1) > 0):\n    agent.place(1, direction)\n  else:\n    say(\"I don't have laundry to place!\")\n\ndef canWalkForward():\n  return agent.inspect(\"forward\") == \"air\" and agent.inspect(\"forward\") != \"quartz_stairs\"\n@user-code"
    }
   },
   "outputs": [],
   "source": [
    "if ('conditions'):\n",
    "  # code of what to do if match the conditions\n",
    "  pass"
   ]
  },
  {
   "cell_type": "markdown",
   "metadata": {},
   "source": [
    "# Laundry baskets related code"
   ]
  },
  {
   "cell_type": "code",
   "execution_count": null,
   "metadata": {
    "minecraft": {
     "overridePython": "def pickupLaundry(direction):\n  if (agent.inspect(direction) == \"composter\"):\n    agent.destroy(direction)\n    count = 0\n    if (agent.get_item(1) == \"composter\"):\n      count = agent.get_item_count(1)\n      pass\n    agent.give(\"composter\", count + 1, 1)\n    pass\n\ndef detectLaundry(direction):\n  return agent.inspect(direction) == \"composter\"\n\ndef placeLaundry(direction):\n  if (agent.get_item(1) == \"composter\" and agent.get_item_count(1) > 0):\n    agent.place(1, direction)\n  else:\n    say(\"I don't have laundry to place!\")\n\ndef canWalkForward():\n  return agent.inspect(\"forward\") == \"air\" and agent.inspect(\"forward\") != \"quartz_stairs\"\n@user-code"
    }
   },
   "outputs": [],
   "source": [
    "# detect if the agent can still walk forward\n",
    "while (canWalkForward()== True):\n",
    "  agent.move(\"forward\")\n",
    "  # detect if there are laundry in the specified direction\n",
    "  if (detectLaundry(\"right\") == True):\n",
    "    # pick up the laundry in the specified direction\n",
    "    pickupLaundry(\"right\")\n",
    "    pass\n",
    "\n",
    "# place laundry in the specified direction\n",
    "placeLaundry(\"right\")"
   ]
  },
  {
   "cell_type": "code",
   "execution_count": null,
   "metadata": {
    "minecraft": {
     "hidden": true,
     "overridePython": "def pickupLaundry(direction):\n  if (agent.inspect(direction) == \"composter\"):\n    agent.destroy(direction)\n    count = 0\n    if (agent.get_item(1) == \"composter\"):\n      count = agent.get_item_count(1)\n      pass\n    agent.give(\"composter\", count + 1, 1)\n    pass\n\ndef detectLaundry(direction):\n  return agent.inspect(direction) == \"composter\"\n\ndef placeLaundry(direction):\n  if (agent.get_item(1) == \"composter\" and agent.get_item_count(1) > 0):\n    agent.place(1, direction)\n  else:\n    say(\"I don't have laundry to place!\")\n\ndef canWalkForward():\n  return agent.inspect(\"forward\") == \"air\" and agent.inspect(\"forward\") != \"quartz_stairs\"\n@user-code"
    }
   },
   "outputs": [],
   "source": [
    "def pickupLaundry(direction):\n",
    "  if (agent.inspect(direction) == \"composter\"):\n",
    "    agent.destroy(direction)\n",
    "    count = 0\n",
    "    if (agent.get_item(1) == \"composter\"):\n",
    "      count = agent.get_item_count(1)\n",
    "      pass\n",
    "    agent.give(\"composter\", count + 1, 1)\n",
    "    pass\n",
    "\n",
    "def detectLaundry(direction):\n",
    "  return agent.inspect(direction) == \"composter\"\n",
    "\n",
    "def placeLaundry(direction):\n",
    "  if (agent.get_item(1) == \"composter\" and agent.get_item_count(1) > 0):\n",
    "    agent.place(1, direction)\n",
    "  else:\n",
    "    say(\"I don't have laundry to place!\")\n",
    "\n",
    "def canWalkForward():\n",
    "  return agent.inspect(\"forward\") == \"air\" and agent.inspect(\"forward\") != \"quartz_stairs\"\n",
    "\n",
    "while (canWalkForward() == True):\n",
    "  agent.move(\"forward\")\n",
    "  if (detectLaundry(\"right\") == True):\n",
    "    pickupLaundry(\"right\")\n",
    "    pass"
   ]
  },
  {
   "cell_type": "markdown",
   "metadata": {},
   "source": [
    "(c) Copyright Gamenoodlesoup 2021. https://gamenoodlesoup.com. A Minecraft Global Training Partner."
   ]
  }
 ],
 "metadata": {
  "kernelspec": {
   "display_name": "Python 3 (ipykernel)",
   "language": "python",
   "name": "python3"
  },
  "language_info": {
   "codemirror_mode": {
    "name": "ipython",
    "version": 3
   },
   "file_extension": ".py",
   "mimetype": "text/x-python",
   "name": "python",
   "nbconvert_exporter": "python",
   "pygments_lexer": "ipython3",
   "version": "3.9.1"
  },
  "minecraft": {
   "description": "Code Reference",
   "page_id": "1.0",
   "page_name": "Code Reference",
   "style": "minecraft.css"
  }
 },
 "nbformat": 4,
 "nbformat_minor": 5
}
