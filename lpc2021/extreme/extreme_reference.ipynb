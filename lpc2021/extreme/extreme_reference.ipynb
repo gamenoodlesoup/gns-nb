{
 "cells": [
  {
   "cell_type": "markdown",
   "metadata": {},
   "source": [
    "# Code Reference\n",
    "\n",
    "These are reference for you if you forget how it work."
   ]
  },
  {
   "cell_type": "markdown",
   "metadata": {},
   "source": [
    "# Moving & Turning\n",
    "\n",
    "```\n",
    "agent.move(<direction>) # replace <direction> with the six directions: \"forward\", \"back\", \"left\", \"right\", \"up\", \"down\"\n",
    "agent.turn(<direction>) # replace <direction> with left/right: \"left\", \"right\"\n",
    "```"
   ]
  },
  {
   "cell_type": "code",
   "execution_count": null,
   "metadata": {},
   "outputs": [],
   "source": [
    "agent.move(\"forward\")\n",
    "agent.turn(\"left\")"
   ]
  },
  {
   "cell_type": "markdown",
   "metadata": {},
   "source": [
    "# LOOP\n",
    "\n",
    "```\n",
    "for i in range(5):\n",
    "  # your codea\n",
    "  pass\n",
    "```\n",
    "\n",
    "What we have here\n",
    "- <b>for</b>: a keyword for looping (repeating) the commands\n",
    "- <b>i</b>: a variable name, could be any, but most programmers use i\n",
    "- <b>range(a number)</b>: this define how many times the commands will be run\n",
    "\n",
    "Be sure that it is written exactly in this way with the identation (the space before each line) is correct. You could use <kbd>TAB</kbd> to ident."
   ]
  },
  {
   "cell_type": "code",
   "execution_count": null,
   "metadata": {},
   "outputs": [],
   "source": [
    "for i in range(5):\n",
    "  agent.move(\"forward\")\n",
    "  pass"
   ]
  }
 ],
"metadata": {
  "kernelspec": {
   "display_name": "Python 3 (ipykernel)",
   "language": "python",
   "name": "python3"
  },
  "language_info": {
   "codemirror_mode": {
    "name": "ipython",
    "version": 3
   },
   "file_extension": ".py",
   "mimetype": "text/x-python",
   "name": "python",
   "nbconvert_exporter": "python",
   "pygments_lexer": "ipython3",
   "version": "3.9.1"
  },
  "minecraft": {
   "description": "Code Reference (Extreme)",
   "page_id": "1.0",
   "page_name": "Code Reference (Extreme)",
   "style": "minecraft.css"
  }
 },
 "nbformat": 4,
 "nbformat_minor": 5
}
