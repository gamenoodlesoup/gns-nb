{
 "cells": [
  {
   "cell_type": "markdown",
   "metadata": {},
   "source": [
    "# Puddles on the Tennis Courts\n",
    "## Difficulty: Normal\n",
    "\n",
    "![Normal Task Image](normal_task.jpg)\n",
    "\n",
    "There are a lot of puddles on the tennis courts after heavy rain, just like the entrance that are littered with trees. Could you guide the robot through the puddle maze so that we could clean the courts up?\n",
    "\n",
    "You have to do the following:\n",
    "\n",
    "1. Guide the agent to move in different directions. \n",
    "\n",
    "2. Turn the agent to different sides when necessary. \n"
   ]
  },
  {
   "cell_type": "markdown",
   "metadata": {},
   "source": [
    "## Try it out first!\n",
    "\n",
    "Try to run the following command and see how the ```agent.move(FORWARD, 1)``` block and both the turning block ```agent.turn_left(); agent.turn_right()``` works!"
   ]
  },
  {
   "cell_type": "code",
   "execution_count": null,
   "metadata": {},
   "outputs": [],
   "source": [
    "agent.move(\"forward\")\n",
    "agent.turn_left()\n",
    "agent.turn_right()"
   ]
  },
  {
   "cell_type": "markdown",
   "metadata": {},
   "source": [
    "## Walking upstairs\n",
    "\n",
    "Now try a more advanced procedures like walking the robot upstairs! ```walkUpstairs()``` could help you."
   ]
  },
  {
   "cell_type": "code",
   "execution_count": null,
   "metadata": {
    "minecraft": {
     "closeCodeBuilderOnRun": true,
     "overridePython": "def walkUpstairs():\n  agent.move(\"up\")\n  agent.move(\"forward\")\n  pass\n@user-code",
     "readonly": false
    }
   },
   "outputs": [],
   "source": [
    "walkUpstairs()"
   ]
  }
 ],
 "metadata": {
  "kernelspec": {
   "display_name": "Python 3 (ipykernel)",
   "language": "python",
   "name": "python3"
  },
  "language_info": {
   "codemirror_mode": {
    "name": "ipython",
    "version": 3
   },
   "file_extension": ".py",
   "mimetype": "text/x-python",
   "name": "python",
   "nbconvert_exporter": "python",
   "pygments_lexer": "ipython3",
   "version": "3.9.1"
  },
  "minecraft": {
   "description": "Normal Task",
   "page_id": "1.1",
   "page_name": "Normal Task",
   "style": "minecraft.css"
  }
 },
 "nbformat": 4,
 "nbformat_minor": 5
}
